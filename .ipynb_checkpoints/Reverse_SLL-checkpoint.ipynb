{
 "cells": [
  {
   "cell_type": "markdown",
   "metadata": {},
   "source": [
    "###  Given the head of a singly linked list, reverse it in-place. "
   ]
  },
  {
   "cell_type": "markdown",
   "metadata": {},
   "source": [
    "#### Linked List Creation Functions"
   ]
  },
  {
   "cell_type": "code",
   "execution_count": 129,
   "metadata": {},
   "outputs": [],
   "source": [
    "class node:\n",
    "    def __init__(self, value, next=None):\n",
    "        self.value = value\n",
    "        self.next = next\n",
    "        \n",
    "    def print_sll(self):\n",
    "        print(self.value, end=\"\")\n",
    "        self = self.next\n",
    "        while self is not None:\n",
    "            print(\"->\", end=\"\")\n",
    "            print(self.value, end=\"\")\n",
    "            self = self.next\n",
    "\n",
    "Alpha = ['A', 'B', 'C', 'D', 'E', 'F', 'G', 'H', 'I', 'J', 'K', 'L', 'M', 'N','O',\n",
    "         'P', 'Q', 'R', 'S', 'T', 'U', 'V', 'W', 'X', 'Y', 'Z']\n",
    "\n",
    "def create_linked_list(alpha):\n",
    "    head = node(alpha[0])\n",
    "    curr = head\n",
    "    cnt = 1\n",
    "    for c in alpha[1:]:\n",
    "        curr.next = node(alpha[cnt])\n",
    "        curr = curr.next\n",
    "        cnt += 1\n",
    "    return head"
   ]
  },
  {
   "cell_type": "markdown",
   "metadata": {},
   "source": [
    "#### Reversing the List"
   ]
  },
  {
   "cell_type": "markdown",
   "metadata": {},
   "source": [
    "Iterative Approach"
   ]
  },
  {
   "cell_type": "code",
   "execution_count": 137,
   "metadata": {},
   "outputs": [],
   "source": [
    "sll = create_linked_list(Alpha)\n",
    "def reverse_sll_iter(sll):\n",
    "    if sll.next is None: # length 1\n",
    "        return sll\n",
    "    else: # length n\n",
    "        prev = sll\n",
    "        curr = sll.next\n",
    "        prev.next = None\n",
    "        while curr.next is not None:\n",
    "            next = curr.next\n",
    "            curr.next = prev\n",
    "            prev = curr\n",
    "            curr = next\n",
    "        curr.next = prev\n",
    "        return curr"
   ]
  },
  {
   "cell_type": "code",
   "execution_count": 138,
   "metadata": {},
   "outputs": [
    {
     "name": "stdout",
     "output_type": "stream",
     "text": [
      "A"
     ]
    }
   ],
   "source": [
    "reverse_sll_iter(sll).print_sll() #SUCCESS :)"
   ]
  },
  {
   "cell_type": "markdown",
   "metadata": {},
   "source": [
    "### Given a linked list and an integer k, remove the k-th node from the end of the list and return the head of the list. k is guaranteed to be smaller than the length of the list. Do this in one pass."
   ]
  },
  {
   "cell_type": "code",
   "execution_count": 142,
   "metadata": {},
   "outputs": [],
   "source": [
    "sll = create_linked_list(Alpha)\n",
    "# cases : last node, first node, middle\n",
    "# d = a -> b -> c\n",
    "# remove(d, 2) should remove a and return b -> c\n",
    "def remove(sll, k): #starting at 1 index\n",
    "    head = sll\n",
    "    i = 0\n",
    "    arr = []\n",
    "    while sll.next is not None:\n",
    "        arr.append(sll)\n",
    "        i += 1\n",
    "        sll = sll.next\n",
    "    arr[k - 2 - i].next = arr[k - i]\n",
    "    return head\n",
    "    "
   ]
  },
  {
   "cell_type": "code",
   "execution_count": 143,
   "metadata": {},
   "outputs": [
    {
     "name": "stdout",
     "output_type": "stream",
     "text": [
      "A->B->C->D->E->F->G->H->I->J->K->L->M->N->O->P->Q->R->S->T->U->V->W->X->Y->Z"
     ]
    }
   ],
   "source": [
    "sll.print_sll()"
   ]
  },
  {
   "cell_type": "code",
   "execution_count": 144,
   "metadata": {},
   "outputs": [
    {
     "name": "stdout",
     "output_type": "stream",
     "text": [
      "A->B->C->E->F->G->H->I->J->K->L->M->N->O->P->Q->R->S->T->U->V->W->X->Y->Z"
     ]
    }
   ],
   "source": [
    "remove(sll, 4).print_sll()"
   ]
  },
  {
   "cell_type": "code",
   "execution_count": null,
   "metadata": {},
   "outputs": [],
   "source": []
  }
 ],
 "metadata": {
  "kernelspec": {
   "display_name": "Python 3",
   "language": "python",
   "name": "python3"
  },
  "language_info": {
   "codemirror_mode": {
    "name": "ipython",
    "version": 3
   },
   "file_extension": ".py",
   "mimetype": "text/x-python",
   "name": "python",
   "nbconvert_exporter": "python",
   "pygments_lexer": "ipython3",
   "version": "3.8.1"
  }
 },
 "nbformat": 4,
 "nbformat_minor": 4
}
